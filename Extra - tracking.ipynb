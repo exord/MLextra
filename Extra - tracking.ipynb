{
 "cells": [
  {
   "cell_type": "code",
   "execution_count": 1,
   "metadata": {},
   "outputs": [],
   "source": [
    "import numpy as np\n",
    "import sklearn\n",
    "import pandas as pd\n",
    "\n",
    "%matplotlib inline\n",
    "from matplotlib import pyplot as plt"
   ]
  },
  {
   "cell_type": "code",
   "execution_count": 2,
   "metadata": {},
   "outputs": [],
   "source": [
    "df = pd.read_csv('datasets/FPU3_MLtrackTemperature.csv')"
   ]
  },
  {
   "cell_type": "code",
   "execution_count": 3,
   "metadata": {},
   "outputs": [
    {
     "data": {
      "text/plain": [
       "Index(['field', ' time', ' temperature', ' ra', ' dec', ' az', ' alt',\n",
       "       ' airmass', ' ha', ' FU1_ra', ' FU1_dec', ' FU1_Delta_ra',\n",
       "       ' FU1_Delta_dec', ' FU1_distance', ' FU1_Delta_Teff',\n",
       "       ' FU1_X_calculated', ' FU1_Y_calculated', ' FU1_X_observed',\n",
       "       ' FU1_Y_observed', ' FU2_ra', ' FU2_dec', ' FU2_Delta_ra',\n",
       "       ' FU2_Delta_dec', ' FU2_distance', ' FU2_Delta_Teff',\n",
       "       ' FU2_X_calculated', ' FU2_Y_calculated', ' FU2_X_observed',\n",
       "       ' FU2_Y_observed', ' FU3_ra', ' FU3_dec', ' FU3_Delta_ra',\n",
       "       ' FU3_Delta_dec', ' FU3_distance', ' FU3_Delta_Teff',\n",
       "       ' FU3_X_calculated', ' FU3_Y_calculated', ' FU3_X_observed',\n",
       "       ' FU3_Y_observed', ' FU4_ra', ' FU4_dec', ' FU4_Delta_ra',\n",
       "       ' FU4_Delta_dec', ' FU4_distance', ' FU4_Delta_Teff',\n",
       "       ' FU4_X_calculated', ' FU4_Y_calculated', ' FU4_X_observed',\n",
       "       ' FU4_Y_observed', ' FU5_ra', ' FU5_dec', ' FU5_Delta_ra',\n",
       "       ' FU5_Delta_dec', ' FU5_distance', ' FU5_Delta_Teff',\n",
       "       ' FU5_X_calculated', ' FU5_Y_calculated', ' FU5_X_observed',\n",
       "       ' FU5_Y_observed '],\n",
       "      dtype='object')"
      ]
     },
     "execution_count": 3,
     "metadata": {},
     "output_type": "execute_result"
    }
   ],
   "source": [
    "df.columns"
   ]
  },
  {
   "cell_type": "code",
   "execution_count": 4,
   "metadata": {},
   "outputs": [],
   "source": [
    "# Columns have extra spaces; let's correct that (and remove field, just to keep a fully numeric dataframe; why?)\n",
    "df = pd.DataFrame(df.values[:, 1:], columns=df.columns.str.strip(' ')[1:], dtype='float64')"
   ]
  },
  {
   "cell_type": "code",
   "execution_count": 5,
   "metadata": {},
   "outputs": [
    {
     "name": "stdout",
     "output_type": "stream",
     "text": [
      "<class 'pandas.core.frame.DataFrame'>\n",
      "RangeIndex: 2395 entries, 0 to 2394\n",
      "Data columns (total 58 columns):\n",
      " #   Column            Non-Null Count  Dtype  \n",
      "---  ------            --------------  -----  \n",
      " 0   time              2395 non-null   float64\n",
      " 1   temperature       2395 non-null   float64\n",
      " 2   ra                2395 non-null   float64\n",
      " 3   dec               2395 non-null   float64\n",
      " 4   az                2395 non-null   float64\n",
      " 5   alt               2395 non-null   float64\n",
      " 6   airmass           2395 non-null   float64\n",
      " 7   ha                2395 non-null   float64\n",
      " 8   FU1_ra            2395 non-null   float64\n",
      " 9   FU1_dec           2395 non-null   float64\n",
      " 10  FU1_Delta_ra      2395 non-null   float64\n",
      " 11  FU1_Delta_dec     2395 non-null   float64\n",
      " 12  FU1_distance      2395 non-null   float64\n",
      " 13  FU1_Delta_Teff    2395 non-null   float64\n",
      " 14  FU1_X_calculated  2395 non-null   float64\n",
      " 15  FU1_Y_calculated  2395 non-null   float64\n",
      " 16  FU1_X_observed    2395 non-null   float64\n",
      " 17  FU1_Y_observed    2395 non-null   float64\n",
      " 18  FU2_ra            2395 non-null   float64\n",
      " 19  FU2_dec           2395 non-null   float64\n",
      " 20  FU2_Delta_ra      2395 non-null   float64\n",
      " 21  FU2_Delta_dec     2395 non-null   float64\n",
      " 22  FU2_distance      2395 non-null   float64\n",
      " 23  FU2_Delta_Teff    2395 non-null   float64\n",
      " 24  FU2_X_calculated  2395 non-null   float64\n",
      " 25  FU2_Y_calculated  2395 non-null   float64\n",
      " 26  FU2_X_observed    2395 non-null   float64\n",
      " 27  FU2_Y_observed    2395 non-null   float64\n",
      " 28  FU3_ra            2395 non-null   float64\n",
      " 29  FU3_dec           2395 non-null   float64\n",
      " 30  FU3_Delta_ra      2395 non-null   float64\n",
      " 31  FU3_Delta_dec     2395 non-null   float64\n",
      " 32  FU3_distance      2395 non-null   float64\n",
      " 33  FU3_Delta_Teff    2395 non-null   float64\n",
      " 34  FU3_X_calculated  2395 non-null   float64\n",
      " 35  FU3_Y_calculated  2395 non-null   float64\n",
      " 36  FU3_X_observed    2395 non-null   float64\n",
      " 37  FU3_Y_observed    2395 non-null   float64\n",
      " 38  FU4_ra            2395 non-null   float64\n",
      " 39  FU4_dec           2395 non-null   float64\n",
      " 40  FU4_Delta_ra      2395 non-null   float64\n",
      " 41  FU4_Delta_dec     2395 non-null   float64\n",
      " 42  FU4_distance      2395 non-null   float64\n",
      " 43  FU4_Delta_Teff    2395 non-null   float64\n",
      " 44  FU4_X_calculated  2395 non-null   float64\n",
      " 45  FU4_Y_calculated  2395 non-null   float64\n",
      " 46  FU4_X_observed    2395 non-null   float64\n",
      " 47  FU4_Y_observed    2395 non-null   float64\n",
      " 48  FU5_ra            2395 non-null   float64\n",
      " 49  FU5_dec           2395 non-null   float64\n",
      " 50  FU5_Delta_ra      2395 non-null   float64\n",
      " 51  FU5_Delta_dec     2395 non-null   float64\n",
      " 52  FU5_distance      2395 non-null   float64\n",
      " 53  FU5_Delta_Teff    2395 non-null   float64\n",
      " 54  FU5_X_calculated  2395 non-null   float64\n",
      " 55  FU5_Y_calculated  2395 non-null   float64\n",
      " 56  FU5_X_observed    2395 non-null   float64\n",
      " 57  FU5_Y_observed    2395 non-null   float64\n",
      "dtypes: float64(58)\n",
      "memory usage: 1.1 MB\n"
     ]
    }
   ],
   "source": [
    "df.info()"
   ]
  },
  {
   "cell_type": "code",
   "execution_count": 6,
   "metadata": {},
   "outputs": [
    {
     "data": {
      "text/html": [
       "<div>\n",
       "<style scoped>\n",
       "    .dataframe tbody tr th:only-of-type {\n",
       "        vertical-align: middle;\n",
       "    }\n",
       "\n",
       "    .dataframe tbody tr th {\n",
       "        vertical-align: top;\n",
       "    }\n",
       "\n",
       "    .dataframe thead th {\n",
       "        text-align: right;\n",
       "    }\n",
       "</style>\n",
       "<table border=\"1\" class=\"dataframe\">\n",
       "  <thead>\n",
       "    <tr style=\"text-align: right;\">\n",
       "      <th></th>\n",
       "      <th>FU1_X_calculated</th>\n",
       "      <th>FU2_X_calculated</th>\n",
       "      <th>FU3_X_calculated</th>\n",
       "      <th>FU4_X_calculated</th>\n",
       "    </tr>\n",
       "  </thead>\n",
       "  <tbody>\n",
       "    <tr>\n",
       "      <th>count</th>\n",
       "      <td>2.395000e+03</td>\n",
       "      <td>2.395000e+03</td>\n",
       "      <td>2.395000e+03</td>\n",
       "      <td>2.395000e+03</td>\n",
       "    </tr>\n",
       "    <tr>\n",
       "      <th>mean</th>\n",
       "      <td>3.825842e+06</td>\n",
       "      <td>-2.127568e+05</td>\n",
       "      <td>2.069379e+06</td>\n",
       "      <td>1.095594e+06</td>\n",
       "    </tr>\n",
       "    <tr>\n",
       "      <th>std</th>\n",
       "      <td>1.202955e+07</td>\n",
       "      <td>9.508147e+06</td>\n",
       "      <td>1.031134e+07</td>\n",
       "      <td>9.802219e+06</td>\n",
       "    </tr>\n",
       "    <tr>\n",
       "      <th>min</th>\n",
       "      <td>-2.158133e+07</td>\n",
       "      <td>-2.039550e+07</td>\n",
       "      <td>-2.158919e+07</td>\n",
       "      <td>-2.285402e+07</td>\n",
       "    </tr>\n",
       "    <tr>\n",
       "      <th>25%</th>\n",
       "      <td>-2.511454e+06</td>\n",
       "      <td>-8.302461e+06</td>\n",
       "      <td>-6.632960e+06</td>\n",
       "      <td>-4.870940e+06</td>\n",
       "    </tr>\n",
       "    <tr>\n",
       "      <th>50%</th>\n",
       "      <td>3.525298e+06</td>\n",
       "      <td>1.234229e+06</td>\n",
       "      <td>1.714690e+05</td>\n",
       "      <td>-3.547800e+05</td>\n",
       "    </tr>\n",
       "    <tr>\n",
       "      <th>75%</th>\n",
       "      <td>1.488454e+07</td>\n",
       "      <td>6.425840e+06</td>\n",
       "      <td>1.069218e+07</td>\n",
       "      <td>7.421995e+06</td>\n",
       "    </tr>\n",
       "    <tr>\n",
       "      <th>max</th>\n",
       "      <td>2.268384e+07</td>\n",
       "      <td>2.348568e+07</td>\n",
       "      <td>2.257321e+07</td>\n",
       "      <td>2.227233e+07</td>\n",
       "    </tr>\n",
       "  </tbody>\n",
       "</table>\n",
       "</div>"
      ],
      "text/plain": [
       "       FU1_X_calculated  FU2_X_calculated  FU3_X_calculated  FU4_X_calculated\n",
       "count      2.395000e+03      2.395000e+03      2.395000e+03      2.395000e+03\n",
       "mean       3.825842e+06     -2.127568e+05      2.069379e+06      1.095594e+06\n",
       "std        1.202955e+07      9.508147e+06      1.031134e+07      9.802219e+06\n",
       "min       -2.158133e+07     -2.039550e+07     -2.158919e+07     -2.285402e+07\n",
       "25%       -2.511454e+06     -8.302461e+06     -6.632960e+06     -4.870940e+06\n",
       "50%        3.525298e+06      1.234229e+06      1.714690e+05     -3.547800e+05\n",
       "75%        1.488454e+07      6.425840e+06      1.069218e+07      7.421995e+06\n",
       "max        2.268384e+07      2.348568e+07      2.257321e+07      2.227233e+07"
      ]
     },
     "execution_count": 6,
     "metadata": {},
     "output_type": "execute_result"
    }
   ],
   "source": [
    "df.describe().loc[: , ['FU1_X_calculated', 'FU2_X_calculated', 'FU3_X_calculated', 'FU4_X_calculated']]"
   ]
  },
  {
   "cell_type": "code",
   "execution_count": 7,
   "metadata": {},
   "outputs": [
    {
     "data": {
      "text/plain": [
       "array([[<matplotlib.axes._subplots.AxesSubplot object at 0x12220bfa0>,\n",
       "        <matplotlib.axes._subplots.AxesSubplot object at 0x1041c9490>],\n",
       "       [<matplotlib.axes._subplots.AxesSubplot object at 0x120d49910>,\n",
       "        <matplotlib.axes._subplots.AxesSubplot object at 0x120d77d60>],\n",
       "       [<matplotlib.axes._subplots.AxesSubplot object at 0x120dae1f0>,\n",
       "        <matplotlib.axes._subplots.AxesSubplot object at 0x120dda6a0>]],\n",
       "      dtype=object)"
      ]
     },
     "execution_count": 7,
     "metadata": {},
     "output_type": "execute_result"
    },
    {
     "data": {
      "image/png": "[encoded data removed]",
      "text/plain": [
       "<Figure size 432x288 with 6 Axes>"
      ]
     },
     "metadata": {
      "needs_background": "light"
     },
     "output_type": "display_data"
    },
    {
     "data": {
      "image/png": "[encoded data removed]",
      "text/plain": [
       "<Figure size 432x288 with 6 Axes>"
      ]
     },
     "metadata": {
      "needs_background": "light"
     },
     "output_type": "display_data"
    }
   ],
   "source": [
    "df.hist(['FU1_X_calculated', 'FU2_X_calculated', 'FU3_X_calculated', 'FU4_X_calculated', 'FU5_X_calculated'], bins=25)\n",
    "df.hist(['FU1_Y_calculated', 'FU2_Y_calculated', 'FU3_Y_calculated', 'FU4_Y_calculated', 'FU5_Y_calculated'], bins=25)"
   ]
  },
  {
   "cell_type": "code",
   "execution_count": 8,
   "metadata": {},
   "outputs": [],
   "source": [
    "# Compute X and Y differences for each arm\n",
    "for i in range(1, 6):\n",
    "    for d in ['X', 'Y']:\n",
    "        df['FU{}_d{}'.format(i, d)] = df['FU{}_{}_observed'.format(i, d)] - df['FU{}_{}_calculated'.format(i, d)]"
   ]
  },
  {
   "cell_type": "code",
   "execution_count": 9,
   "metadata": {},
   "outputs": [
    {
     "data": {
      "text/plain": [
       "array([[<matplotlib.axes._subplots.AxesSubplot object at 0x121192880>,\n",
       "        <matplotlib.axes._subplots.AxesSubplot object at 0x121172490>],\n",
       "       [<matplotlib.axes._subplots.AxesSubplot object at 0x1211ce340>,\n",
       "        <matplotlib.axes._subplots.AxesSubplot object at 0x121016ac0>],\n",
       "       [<matplotlib.axes._subplots.AxesSubplot object at 0x121391280>,\n",
       "        <matplotlib.axes._subplots.AxesSubplot object at 0x1213b8a60>]],\n",
       "      dtype=object)"
      ]
     },
     "execution_count": 9,
     "metadata": {},
     "output_type": "execute_result"
    },
    {
     "data": {
      "image/png": "[encoded data removed]",
      "text/plain": [
       "<Figure size 720x720 with 6 Axes>"
      ]
     },
     "metadata": {
      "needs_background": "light"
     },
     "output_type": "display_data"
    }
   ],
   "source": [
    "df.hist(['FU1_dX', 'FU2_dX', 'FU3_dX', 'FU4_dX', 'FU5_dX'], bins=25, figsize=(10, 10))"
   ]
  },
  {
   "cell_type": "code",
   "execution_count": 10,
   "metadata": {},
   "outputs": [],
   "source": [
    "# Drop some columns\n",
    "cols_to_drop = []\n",
    "\n",
    "for i in range(1, 6):\n",
    "    for d in ['X', 'Y']:\n",
    "        cols_to_drop.append('FU{}_{}_observed'.format(i, d))\n",
    "        \n",
    "df2 = df.drop(labels=cols_to_drop, axis=1, inplace=False)"
   ]
  },
  {
   "cell_type": "code",
   "execution_count": 11,
   "metadata": {
    "scrolled": false
   },
   "outputs": [
    {
     "data": {
      "text/plain": [
       "FU1_dX              1.000000\n",
       "FU5_dX              0.564861\n",
       "FU2_X_calculated    0.488550\n",
       "FU2_Delta_dec       0.444235\n",
       "FU1_Delta_ra        0.432139\n",
       "FU4_dY              0.415801\n",
       "FU1_X_calculated    0.400284\n",
       "FU5_dec             0.398999\n",
       "FU4_X_calculated    0.394309\n",
       "FU4_Delta_ra        0.392647\n",
       "FU3_dec             0.389351\n",
       "FU4_dec             0.389140\n",
       "dec                 0.389081\n",
       "FU1_dec             0.389041\n",
       "FU2_dec             0.389009\n",
       "FU1_Y_calculated    0.380654\n",
       "FU1_Delta_dec       0.372935\n",
       "FU5_distance        0.359627\n",
       "FU4_Delta_dec       0.355625\n",
       "FU5_Delta_dec       0.351300\n",
       "FU5_X_calculated    0.347005\n",
       "FU2_dX              0.301365\n",
       "az                  0.295220\n",
       "FU3_Delta_ra        0.291010\n",
       "FU3_X_calculated    0.285301\n",
       "FU3_Delta_dec       0.274152\n",
       "FU5_Delta_Teff      0.266316\n",
       "FU3_dY              0.257562\n",
       "ha                  0.256546\n",
       "FU2_Delta_ra        0.254198\n",
       "FU4_Y_calculated    0.209848\n",
       "FU3_Delta_Teff      0.200858\n",
       "FU3_dX              0.188114\n",
       "FU3_distance        0.182259\n",
       "airmass             0.163726\n",
       "alt                 0.163726\n",
       "FU2_Y_calculated    0.156565\n",
       "FU2_dY              0.146522\n",
       "time                0.135680\n",
       "FU2_Delta_Teff      0.126183\n",
       "FU2_distance        0.113286\n",
       "FU4_ra              0.106814\n",
       "FU4_dX              0.102074\n",
       "FU3_Y_calculated    0.099606\n",
       "FU5_ra              0.097343\n",
       "FU3_ra              0.097341\n",
       "FU1_ra              0.097314\n",
       "FU2_ra              0.097307\n",
       "ra                  0.097210\n",
       "FU5_Delta_ra        0.052514\n",
       "FU1_Delta_Teff      0.045282\n",
       "FU4_Delta_Teff      0.044397\n",
       "FU5_Y_calculated    0.037513\n",
       "FU5_dY              0.035659\n",
       "temperature         0.035001\n",
       "FU1_dY              0.016295\n",
       "FU4_distance        0.014150\n",
       "FU1_distance        0.008265\n",
       "Name: FU1_dX, dtype: float64"
      ]
     },
     "execution_count": 11,
     "metadata": {},
     "output_type": "execute_result"
    }
   ],
   "source": [
    "df2.corr(method='spearman').FU1_dX.abs().sort_values(ascending=False)"
   ]
  },
  {
   "cell_type": "code",
   "execution_count": null,
   "metadata": {},
   "outputs": [],
   "source": [
    "plt.figure(figsize=(12, 6))\n",
    "plt.scatter(df2.FU2_dX, df2.FU1_dX, s=df2.FU5_dX/1e2, c=df2.FU4_dX, alpha=0.3, label='FU5_dX')\n",
    "plt.legend(loc=0)\n",
    "plt.colorbar()"
   ]
  },
  {
   "cell_type": "code",
   "execution_count": null,
   "metadata": {},
   "outputs": [],
   "source": [
    "plt.figure(figsize=(12, 6))\n",
    "plt.scatter(df2.ha, df2.FU1_dX, c=df2.dec, alpha=1, label='FU5_dX')\n",
    "plt.legend(loc=0)\n",
    "plt.colorbar(label='Dec')"
   ]
  },
  {
   "cell_type": "code",
   "execution_count": 12,
   "metadata": {},
   "outputs": [],
   "source": [
    "# cond = df2.FU1_dX > -30000\n",
    "cond = df2.alt >= 30.0\n",
    "\n",
    "X = df2.loc[cond, ('ha', 'dec', 'airmass', 'alt', 'FU1_Delta_dec', 'FU1_Delta_ra', 'FU1_X_calculated', 'FU1_Y_calculated')]\n",
    "t = df2.loc[cond, ['FU1_dX', 'FU1_dY']]"
   ]
  },
  {
   "cell_type": "code",
   "execution_count": 13,
   "metadata": {},
   "outputs": [
    {
     "data": {
      "text/plain": [
       "20"
      ]
     },
     "execution_count": 13,
     "metadata": {},
     "output_type": "execute_result"
    }
   ],
   "source": [
    "sum(~cond)"
   ]
  },
  {
   "cell_type": "code",
   "execution_count": 14,
   "metadata": {},
   "outputs": [],
   "source": [
    "from sklearn.model_selection import train_test_split\n",
    "from sklearn.preprocessing import StandardScaler\n",
    "\n",
    "# Split train test\n",
    "X_train, X_test, t_train, t_test = train_test_split(X, t, test_size=0.2, random_state=1234)\n",
    "\n",
    "# Scale\n",
    "scaler = StandardScaler()\n",
    "X_train = scaler.fit_transform(X_train)\n",
    "X_test = scaler.transform(X_test)"
   ]
  },
  {
   "cell_type": "markdown",
   "metadata": {},
   "source": [
    "## Linear Regression"
   ]
  },
  {
   "cell_type": "code",
   "execution_count": 15,
   "metadata": {},
   "outputs": [
    {
     "name": "stdout",
     "output_type": "stream",
     "text": [
      "RMSE: 7535.21\n"
     ]
    }
   ],
   "source": [
    "from sklearn.linear_model import LinearRegression, HuberRegressor\n",
    "from sklearn.metrics import mean_squared_error\n",
    "\n",
    "lr = LinearRegression()\n",
    "lr.fit(X_train, t_train)\n",
    "\n",
    "# Metrics\n",
    "y_train = lr.predict(X_train)\n",
    "\n",
    "print('RMSE: {:.2f}'.format(np.sqrt(mean_squared_error(t_train, y_train))))"
   ]
  },
  {
   "cell_type": "code",
   "execution_count": 16,
   "metadata": {},
   "outputs": [
    {
     "data": {
      "text/plain": [
       "[<matplotlib.lines.Line2D at 0x1222c4910>,\n",
       " <matplotlib.lines.Line2D at 0x1222c48e0>]"
      ]
     },
     "execution_count": 16,
     "metadata": {},
     "output_type": "execute_result"
    },
    {
     "data": {
      "image/png": "[encoded data removed]",
      "text/plain": [
       "<Figure size 432x288 with 1 Axes>"
      ]
     },
     "metadata": {
      "needs_background": "light"
     },
     "output_type": "display_data"
    }
   ],
   "source": [
    "res = t_train - y_train\n",
    "\n",
    "plt.plot(X_train[:, 0], res, '.')"
   ]
  },
  {
   "cell_type": "code",
   "execution_count": 17,
   "metadata": {},
   "outputs": [],
   "source": [
    "from utils import hat_matrix\n",
    "H = hat_matrix(X_train)"
   ]
  },
  {
   "cell_type": "code",
   "execution_count": 18,
   "metadata": {},
   "outputs": [
    {
     "data": {
      "text/plain": [
       "<matplotlib.lines.Line2D at 0x1222b6490>"
      ]
     },
     "execution_count": 18,
     "metadata": {},
     "output_type": "execute_result"
    },
    {
     "data": {
      "image/png": "[encoded data removed]",
      "text/plain": [
       "<Figure size 432x288 with 1 Axes>"
      ]
     },
     "metadata": {
      "needs_background": "light"
     },
     "output_type": "display_data"
    }
   ],
   "source": [
    "plt.plot(np.diag(H), res, '.')\n",
    "plt.axhline(0, color='r', ls=':')"
   ]
  },
  {
   "cell_type": "markdown",
   "metadata": {},
   "source": [
    "**What out for those outliers!**\n"
   ]
  },
  {
   "cell_type": "code",
   "execution_count": null,
   "metadata": {},
   "outputs": [],
   "source": [
    "# Remove high-leverage points\n",
    "ind = np.diag(H) > 0.05\n",
    "\n",
    "lr.fit(X_train[~ind], t_train[~ind])\n",
    "y_train = lr.predict(X_train[~ind])\n",
    "\n",
    "print('RMSE (train): {:.2f}'.format(np.sqrt(mean_squared_error(t_train[~ind], y_train))))\n",
    "\n"
   ]
  },
  {
   "cell_type": "code",
   "execution_count": null,
   "metadata": {},
   "outputs": [],
   "source": [
    "plt.semilogx(np.diag(H)[~ind], y_train - t_train[~ind], '.')\n",
    "plt.axhline(0, color='r', ls=':')"
   ]
  },
  {
   "cell_type": "markdown",
   "metadata": {},
   "source": [
    "## Polynomial Regression"
   ]
  },
  {
   "cell_type": "code",
   "execution_count": 19,
   "metadata": {},
   "outputs": [
    {
     "name": "stdout",
     "output_type": "stream",
     "text": [
      "RMSE (train): 2825.94\n",
      "RMSE (test): 2838.51\n"
     ]
    }
   ],
   "source": [
    "from sklearn.preprocessing import PolynomialFeatures\n",
    "\n",
    "poly = PolynomialFeatures(degree=2)\n",
    "\n",
    "X_train_poly = poly.fit_transform(X_train)\n",
    "X_test_poly = poly.transform(X_test)\n",
    "\n",
    "pr = LinearRegression(fit_intercept=False)\n",
    "\n",
    "pr.fit(X_train_poly, t_train)\n",
    "y_train = pr.predict(X_train_poly)\n",
    "y_test =  pr.predict(X_test_poly)\n",
    "print('RMSE (train): {:.2f}'.format(np.sqrt(mean_squared_error(t_train, y_train))))\n",
    "print('RMSE (test): {:.2f}'.format(np.sqrt(mean_squared_error(t_test, y_test))))"
   ]
  },
  {
   "cell_type": "code",
   "execution_count": 20,
   "metadata": {},
   "outputs": [
    {
     "data": {
      "text/plain": [
       "(1900, 45)"
      ]
     },
     "execution_count": 20,
     "metadata": {},
     "output_type": "execute_result"
    }
   ],
   "source": [
    "X_train_poly.shape"
   ]
  },
  {
   "cell_type": "markdown",
   "metadata": {},
   "source": [
    "## Decision Tree"
   ]
  },
  {
   "cell_type": "code",
   "execution_count": 21,
   "metadata": {},
   "outputs": [
    {
     "name": "stdout",
     "output_type": "stream",
     "text": [
      "RMSE (train): 0.00\n",
      "RMSE (test): 3329.61\n"
     ]
    }
   ],
   "source": [
    "# Let's hit it harder\n",
    "from sklearn.tree import DecisionTreeRegressor\n",
    "\n",
    "dt = DecisionTreeRegressor(max_depth=51)\n",
    "dt.fit(X_train, t_train)\n",
    "\n",
    "# Metrics\n",
    "y_train = dt.predict(X_train)\n",
    "y_test = dt.predict(X_test)\n",
    "\n",
    "print('RMSE (train): {:.2f}'.format(np.sqrt(mean_squared_error(t_train, y_train))))\n",
    "print('RMSE (test): {:.2f}'.format(np.sqrt(mean_squared_error(t_test, y_test))))"
   ]
  },
  {
   "cell_type": "code",
   "execution_count": 22,
   "metadata": {},
   "outputs": [
    {
     "name": "stdout",
     "output_type": "stream",
     "text": [
      "{'max_depth': 39}\n",
      "Best RMSE (train): 2902.057454\n",
      "Best RMSE (test): 3273.882080\n"
     ]
    }
   ],
   "source": [
    "from sklearn.model_selection import GridSearchCV\n",
    "\n",
    "gscv = GridSearchCV(dt, {'max_depth': range(2, 100)}, cv=5, scoring='neg_mean_squared_error')\n",
    "gscv.fit(X_train, t_train)\n",
    "\n",
    "print(gscv.best_params_)\n",
    "print('Best RMSE (train): {:2f}'.format(np.sqrt(-gscv.best_score_)))\n",
    "print('Best RMSE (test): {:2f}'.format(np.sqrt(mean_squared_error(gscv.best_estimator_.predict(X_test), t_test))))"
   ]
  },
  {
   "cell_type": "markdown",
   "metadata": {},
   "source": [
    "## Random Forests"
   ]
  },
  {
   "cell_type": "code",
   "execution_count": 23,
   "metadata": {},
   "outputs": [
    {
     "name": "stdout",
     "output_type": "stream",
     "text": [
      "RMSE (train): 909.13\n",
      "RMSE (test): 2684.67\n"
     ]
    }
   ],
   "source": [
    "from sklearn.ensemble import RandomForestRegressor\n",
    "\n",
    "rfr = RandomForestRegressor(n_estimators=500)\n",
    "rfr.fit(X_train, t_train)\n",
    "\n",
    "y_train = rfr.predict(X_train)\n",
    "y_test =  rfr.predict(X_test)\n",
    "print('RMSE (train): {:.2f}'.format(np.sqrt(mean_squared_error(t_train, y_train))))\n",
    "print('RMSE (test): {:.2f}'.format(np.sqrt(mean_squared_error(t_test, y_test))))"
   ]
  },
  {
   "cell_type": "code",
   "execution_count": null,
   "metadata": {},
   "outputs": [],
   "source": [
    "plt.hist(y_test - t_test, 25)"
   ]
  },
  {
   "cell_type": "code",
   "execution_count": null,
   "metadata": {},
   "outputs": [],
   "source": [
    "RandomForestRegressor?"
   ]
  },
  {
   "cell_type": "code",
   "execution_count": null,
   "metadata": {},
   "outputs": [],
   "source": [
    "from sklearn.model_selection import RandomizedSearchCV\n",
    "from scipy.stats import randint\n",
    "\n",
    "rscv = RandomizedSearchCV(rfr, {'max_depth': randint(2, 20), 'n_estimators': randint(100, 500)}, \n",
    "                          n_iter=20, cv=5, scoring='neg_mean_squared_error')\n",
    "rscv.fit(X_train, t_train)\n",
    "\n",
    "print(rscv.best_params_)\n",
    "print('Best RMSE (train): {:2f}'.format(np.sqrt(-rscv.best_score_)))\n",
    "print('Best RMSE (test): {:2f}'.format(np.sqrt(mean_squared_error(rscv.best_estimator_.predict(X_test), t_test))))"
   ]
  },
  {
   "cell_type": "code",
   "execution_count": 24,
   "metadata": {},
   "outputs": [
    {
     "ename": "NameError",
     "evalue": "name 'rscv' is not defined",
     "output_type": "error",
     "traceback": [
      "\u001b[0;31m---------------------------------------------------------------------------\u001b[0m",
      "\u001b[0;31mNameError\u001b[0m                                 Traceback (most recent call last)",
      "\u001b[0;32m<ipython-input-24-322424306854>\u001b[0m in \u001b[0;36m<module>\u001b[0;34m\u001b[0m\n\u001b[0;32m----> 1\u001b[0;31m \u001b[0my_train\u001b[0m \u001b[0;34m=\u001b[0m \u001b[0mrscv\u001b[0m\u001b[0;34m.\u001b[0m\u001b[0mbest_estimator_\u001b[0m\u001b[0;34m.\u001b[0m\u001b[0mpredict\u001b[0m\u001b[0;34m(\u001b[0m\u001b[0mX_train\u001b[0m\u001b[0;34m)\u001b[0m\u001b[0;34m\u001b[0m\u001b[0;34m\u001b[0m\u001b[0m\n\u001b[0m\u001b[1;32m      2\u001b[0m \u001b[0my_test\u001b[0m \u001b[0;34m=\u001b[0m \u001b[0mrscv\u001b[0m\u001b[0;34m.\u001b[0m\u001b[0mbest_estimator_\u001b[0m\u001b[0;34m.\u001b[0m\u001b[0mpredict\u001b[0m\u001b[0;34m(\u001b[0m\u001b[0mX_test\u001b[0m\u001b[0;34m)\u001b[0m\u001b[0;34m\u001b[0m\u001b[0;34m\u001b[0m\u001b[0m\n",
      "\u001b[0;31mNameError\u001b[0m: name 'rscv' is not defined"
     ]
    }
   ],
   "source": [
    "y_train = rscv.best_estimator_.predict(X_train)\n",
    "y_test = rscv.best_estimator_.predict(X_test)"
   ]
  },
  {
   "cell_type": "code",
   "execution_count": null,
   "metadata": {},
   "outputs": [],
   "source": [
    "plt.hist(y_test - t_test, 25)"
   ]
  },
  {
   "cell_type": "code",
   "execution_count": null,
   "metadata": {},
   "outputs": [],
   "source": [
    "plt.scatter(t_train, y_train, label='train data')\n",
    "plt.scatter(t_test, y_test, label='test data')\n",
    "plt.legend(loc=0)\n",
    "plt.xlabel('FU1_dX [target]', fontsize=16)\n",
    "plt.ylabel('FU1_dX [predicted]', fontsize=16)\n",
    "plt.savefig('/Users/rodrigo/EXOML/extra/plots/RF_run1.pdf')"
   ]
  },
  {
   "cell_type": "markdown",
   "metadata": {},
   "source": [
    "I am tempted to repeat everything for points >-30000"
   ]
  },
  {
   "cell_type": "code",
   "execution_count": null,
   "metadata": {},
   "outputs": [],
   "source": [
    "from sklearn.ensemble import GradientBoostingRegressor"
   ]
  },
  {
   "cell_type": "code",
   "execution_count": null,
   "metadata": {},
   "outputs": [],
   "source": [
    "gbr  = GradientBoostingRegressor()\n",
    "\n",
    "gbr.fit(X_train, t_train)\n",
    "y_train = gbr.predict(X_train)\n",
    "y_test = gbr.predict(X_test)\n",
    "\n",
    "print('RMSE (train): {:.2f}'.format(np.sqrt(mean_squared_error(t_train, y_train))))\n",
    "print('RMSE (test): {:.2f}'.format(np.sqrt(mean_squared_error(t_test, y_test))))"
   ]
  },
  {
   "cell_type": "code",
   "execution_count": null,
   "metadata": {},
   "outputs": [],
   "source": []
  }
 ],
 "metadata": {
  "kernelspec": {
   "display_name": "Python 3",
   "language": "python",
   "name": "python3"
  },
  "language_info": {
   "codemirror_mode": {
    "name": "ipython",
    "version": 3
   },
   "file_extension": ".py",
   "mimetype": "text/x-python",
   "name": "python",
   "nbconvert_exporter": "python",
   "pygments_lexer": "ipython3",
   "version": "3.8.3"
  },
  "toc": {
   "base_numbering": 1,
   "nav_menu": {},
   "number_sections": true,
   "sideBar": true,
   "skip_h1_title": false,
   "title_cell": "Table of Contents",
   "title_sidebar": "Contents",
   "toc_cell": false,
   "toc_position": {
    "height": "calc(100% - 180px)",
    "left": "10px",
    "top": "150px",
    "width": "229px"
   },
   "toc_section_display": true,
   "toc_window_display": true
  }
 },
 "nbformat": 4,
 "nbformat_minor": 4
}
