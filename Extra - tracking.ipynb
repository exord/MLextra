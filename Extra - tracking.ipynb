{
 "cells": [
  {
   "cell_type": "code",
   "execution_count": 2,
   "metadata": {},
   "outputs": [],
   "source": [
    "import numpy as np\n",
    "import sklearn\n",
    "import pandas as pd\n",
    "\n",
    "%matplotlib inline\n",
    "from matplotlib import pyplot as plt"
   ]
  },
  {
   "cell_type": "code",
   "execution_count": 3,
   "metadata": {},
   "outputs": [],
   "source": [
    "df = pd.read_csv('datasets/FPU2_ML_2021-04-29.csv')"
   ]
  },
  {
   "cell_type": "code",
   "execution_count": 10,
   "metadata": {},
   "outputs": [
    {
     "data": {
      "text/plain": [
       "Index(['field', 'source', 'time', 'temperature', 'ra', 'dec', 'az', 'alt',\n",
       "       'airmass', 'ha', 'FU1_ra', 'FU1_dec', 'FU1_Delta_ra', 'FU1_Delta_dec',\n",
       "       'FU1_distance', 'FU1_Delta_Teff', 'FU1_X_calculated',\n",
       "       'FU1_Y_calculated', 'FU1_X_observed', 'FU1_Y_observed', 'FU1_Delta_X',\n",
       "       'FU1_Delta_Y', 'FU2_ra', 'FU2_dec', 'FU2_Delta_ra', 'FU2_Delta_dec',\n",
       "       'FU2_distance', 'FU2_Delta_Teff', 'FU2_X_calculated',\n",
       "       'FU2_Y_calculated', 'FU2_X_observed', 'FU2_Y_observed', 'FU2_Delta_X',\n",
       "       'FU2_Delta_Y', 'FU3_ra', 'FU3_dec', 'FU3_Delta_ra', 'FU3_Delta_dec',\n",
       "       'FU3_distance', 'FU3_Delta_Teff', 'FU3_X_calculated',\n",
       "       'FU3_Y_calculated', 'FU3_X_observed', 'FU3_Y_observed', 'FU3_Delta_X',\n",
       "       'FU3_Delta_Y', 'FU4_ra', 'FU4_dec', 'FU4_Delta_ra', 'FU4_Delta_dec',\n",
       "       'FU4_distance', 'FU4_Delta_Teff', 'FU4_X_calculated',\n",
       "       'FU4_Y_calculated', 'FU4_X_observed', 'FU4_Y_observed', 'FU4_Delta_X',\n",
       "       'FU4_Delta_Y', 'FU5_ra', 'FU5_dec', 'FU5_Delta_ra', 'FU5_Delta_dec',\n",
       "       'FU5_distance', 'FU5_Delta_Teff', 'FU5_X_calculated',\n",
       "       'FU5_Y_calculated', 'FU5_X_observed', 'FU5_Y_observed', 'FU5_Delta_X',\n",
       "       'FU5_Delta_Y'],\n",
       "      dtype='object')"
      ]
     },
     "execution_count": 10,
     "metadata": {},
     "output_type": "execute_result"
    }
   ],
   "source": [
    "df.columns"
   ]
  },
  {
   "cell_type": "code",
   "execution_count": 11,
   "metadata": {},
   "outputs": [],
   "source": [
    "# Columns have extra spaces; let's correct that (and remove field, just to keep a fully numeric dataframe; why?)\n",
    "df = pd.DataFrame(df.values[:, 2:], columns=df.columns.str.strip(' ')[2:], dtype='float64')"
   ]
  },
  {
   "cell_type": "code",
   "execution_count": 12,
   "metadata": {},
   "outputs": [
    {
     "name": "stdout",
     "output_type": "stream",
     "text": [
      "<class 'pandas.core.frame.DataFrame'>\n",
      "RangeIndex: 7221 entries, 0 to 7220\n",
      "Data columns (total 68 columns):\n",
      " #   Column            Non-Null Count  Dtype  \n",
      "---  ------            --------------  -----  \n",
      " 0   time              7221 non-null   float64\n",
      " 1   temperature       7221 non-null   float64\n",
      " 2   ra                7221 non-null   float64\n",
      " 3   dec               7221 non-null   float64\n",
      " 4   az                7221 non-null   float64\n",
      " 5   alt               7221 non-null   float64\n",
      " 6   airmass           7221 non-null   float64\n",
      " 7   ha                7221 non-null   float64\n",
      " 8   FU1_ra            7221 non-null   float64\n",
      " 9   FU1_dec           7221 non-null   float64\n",
      " 10  FU1_Delta_ra      7221 non-null   float64\n",
      " 11  FU1_Delta_dec     7221 non-null   float64\n",
      " 12  FU1_distance      7221 non-null   float64\n",
      " 13  FU1_Delta_Teff    7221 non-null   float64\n",
      " 14  FU1_X_calculated  7221 non-null   float64\n",
      " 15  FU1_Y_calculated  7221 non-null   float64\n",
      " 16  FU1_X_observed    7221 non-null   float64\n",
      " 17  FU1_Y_observed    7221 non-null   float64\n",
      " 18  FU1_Delta_X       7221 non-null   float64\n",
      " 19  FU1_Delta_Y       7221 non-null   float64\n",
      " 20  FU2_ra            7221 non-null   float64\n",
      " 21  FU2_dec           7221 non-null   float64\n",
      " 22  FU2_Delta_ra      7221 non-null   float64\n",
      " 23  FU2_Delta_dec     7221 non-null   float64\n",
      " 24  FU2_distance      7221 non-null   float64\n",
      " 25  FU2_Delta_Teff    7221 non-null   float64\n",
      " 26  FU2_X_calculated  7221 non-null   float64\n",
      " 27  FU2_Y_calculated  7221 non-null   float64\n",
      " 28  FU2_X_observed    7221 non-null   float64\n",
      " 29  FU2_Y_observed    7221 non-null   float64\n",
      " 30  FU2_Delta_X       7221 non-null   float64\n",
      " 31  FU2_Delta_Y       7221 non-null   float64\n",
      " 32  FU3_ra            7221 non-null   float64\n",
      " 33  FU3_dec           7221 non-null   float64\n",
      " 34  FU3_Delta_ra      7221 non-null   float64\n",
      " 35  FU3_Delta_dec     7221 non-null   float64\n",
      " 36  FU3_distance      7221 non-null   float64\n",
      " 37  FU3_Delta_Teff    7221 non-null   float64\n",
      " 38  FU3_X_calculated  7221 non-null   float64\n",
      " 39  FU3_Y_calculated  7221 non-null   float64\n",
      " 40  FU3_X_observed    7221 non-null   float64\n",
      " 41  FU3_Y_observed    7221 non-null   float64\n",
      " 42  FU3_Delta_X       7221 non-null   float64\n",
      " 43  FU3_Delta_Y       7221 non-null   float64\n",
      " 44  FU4_ra            7221 non-null   float64\n",
      " 45  FU4_dec           7221 non-null   float64\n",
      " 46  FU4_Delta_ra      7221 non-null   float64\n",
      " 47  FU4_Delta_dec     7221 non-null   float64\n",
      " 48  FU4_distance      7221 non-null   float64\n",
      " 49  FU4_Delta_Teff    7221 non-null   float64\n",
      " 50  FU4_X_calculated  7221 non-null   float64\n",
      " 51  FU4_Y_calculated  7221 non-null   float64\n",
      " 52  FU4_X_observed    7221 non-null   float64\n",
      " 53  FU4_Y_observed    7221 non-null   float64\n",
      " 54  FU4_Delta_X       7221 non-null   float64\n",
      " 55  FU4_Delta_Y       7221 non-null   float64\n",
      " 56  FU5_ra            7221 non-null   float64\n",
      " 57  FU5_dec           7221 non-null   float64\n",
      " 58  FU5_Delta_ra      7221 non-null   float64\n",
      " 59  FU5_Delta_dec     7221 non-null   float64\n",
      " 60  FU5_distance      7221 non-null   float64\n",
      " 61  FU5_Delta_Teff    7221 non-null   float64\n",
      " 62  FU5_X_calculated  7221 non-null   float64\n",
      " 63  FU5_Y_calculated  7221 non-null   float64\n",
      " 64  FU5_X_observed    7221 non-null   float64\n",
      " 65  FU5_Y_observed    7221 non-null   float64\n",
      " 66  FU5_Delta_X       7221 non-null   float64\n",
      " 67  FU5_Delta_Y       7221 non-null   float64\n",
      "dtypes: float64(68)\n",
      "memory usage: 3.7 MB\n"
     ]
    }
   ],
   "source": [
    "df.info()"
   ]
  },
  {
   "cell_type": "code",
   "execution_count": 13,
   "metadata": {},
   "outputs": [
    {
     "data": {
      "text/html": [
       "<div>\n",
       "<style scoped>\n",
       "    .dataframe tbody tr th:only-of-type {\n",
       "        vertical-align: middle;\n",
       "    }\n",
       "\n",
       "    .dataframe tbody tr th {\n",
       "        vertical-align: top;\n",
       "    }\n",
       "\n",
       "    .dataframe thead th {\n",
       "        text-align: right;\n",
       "    }\n",
       "</style>\n",
       "<table border=\"1\" class=\"dataframe\">\n",
       "  <thead>\n",
       "    <tr style=\"text-align: right;\">\n",
       "      <th></th>\n",
       "      <th>FU1_X_calculated</th>\n",
       "      <th>FU2_X_calculated</th>\n",
       "      <th>FU3_X_calculated</th>\n",
       "      <th>FU4_X_calculated</th>\n",
       "    </tr>\n",
       "  </thead>\n",
       "  <tbody>\n",
       "    <tr>\n",
       "      <th>count</th>\n",
       "      <td>7.221000e+03</td>\n",
       "      <td>7.221000e+03</td>\n",
       "      <td>7.221000e+03</td>\n",
       "      <td>7.221000e+03</td>\n",
       "    </tr>\n",
       "    <tr>\n",
       "      <th>mean</th>\n",
       "      <td>1.885576e+06</td>\n",
       "      <td>-1.012106e+06</td>\n",
       "      <td>5.597995e+05</td>\n",
       "      <td>-4.208719e+05</td>\n",
       "    </tr>\n",
       "    <tr>\n",
       "      <th>std</th>\n",
       "      <td>1.274103e+07</td>\n",
       "      <td>1.022569e+07</td>\n",
       "      <td>1.110122e+07</td>\n",
       "      <td>1.052727e+07</td>\n",
       "    </tr>\n",
       "    <tr>\n",
       "      <th>min</th>\n",
       "      <td>-2.069980e+07</td>\n",
       "      <td>-1.933636e+07</td>\n",
       "      <td>-2.192008e+07</td>\n",
       "      <td>-2.276129e+07</td>\n",
       "    </tr>\n",
       "    <tr>\n",
       "      <th>25%</th>\n",
       "      <td>-1.081862e+07</td>\n",
       "      <td>-8.801211e+06</td>\n",
       "      <td>-7.855069e+06</td>\n",
       "      <td>-7.509870e+06</td>\n",
       "    </tr>\n",
       "    <tr>\n",
       "      <th>50%</th>\n",
       "      <td>1.468431e+06</td>\n",
       "      <td>-1.317861e+06</td>\n",
       "      <td>-2.440450e+05</td>\n",
       "      <td>-3.858290e+05</td>\n",
       "    </tr>\n",
       "    <tr>\n",
       "      <th>75%</th>\n",
       "      <td>1.192408e+07</td>\n",
       "      <td>7.093472e+06</td>\n",
       "      <td>1.039587e+07</td>\n",
       "      <td>6.256762e+06</td>\n",
       "    </tr>\n",
       "    <tr>\n",
       "      <th>max</th>\n",
       "      <td>2.307571e+07</td>\n",
       "      <td>2.224130e+07</td>\n",
       "      <td>2.016821e+07</td>\n",
       "      <td>2.128280e+07</td>\n",
       "    </tr>\n",
       "  </tbody>\n",
       "</table>\n",
       "</div>"
      ],
      "text/plain": [
       "       FU1_X_calculated  FU2_X_calculated  FU3_X_calculated  FU4_X_calculated\n",
       "count      7.221000e+03      7.221000e+03      7.221000e+03      7.221000e+03\n",
       "mean       1.885576e+06     -1.012106e+06      5.597995e+05     -4.208719e+05\n",
       "std        1.274103e+07      1.022569e+07      1.110122e+07      1.052727e+07\n",
       "min       -2.069980e+07     -1.933636e+07     -2.192008e+07     -2.276129e+07\n",
       "25%       -1.081862e+07     -8.801211e+06     -7.855069e+06     -7.509870e+06\n",
       "50%        1.468431e+06     -1.317861e+06     -2.440450e+05     -3.858290e+05\n",
       "75%        1.192408e+07      7.093472e+06      1.039587e+07      6.256762e+06\n",
       "max        2.307571e+07      2.224130e+07      2.016821e+07      2.128280e+07"
      ]
     },
     "execution_count": 13,
     "metadata": {},
     "output_type": "execute_result"
    }
   ],
   "source": [
    "df.describe().loc[: , ['FU1_X_calculated', 'FU2_X_calculated', 'FU3_X_calculated', 'FU4_X_calculated']]"
   ]
  },
  {
   "cell_type": "code",
   "execution_count": 8,
   "metadata": {},
   "outputs": [
    {
     "data": {
      "text/plain": [
       "array([[<AxesSubplot:title={'center':'FU1_Y_calculated'}>,\n",
       "        <AxesSubplot:title={'center':'FU2_Y_calculated'}>],\n",
       "       [<AxesSubplot:title={'center':'FU3_Y_calculated'}>,\n",
       "        <AxesSubplot:title={'center':'FU4_Y_calculated'}>],\n",
       "       [<AxesSubplot:title={'center':'FU5_Y_calculated'}>,\n",
       "        <AxesSubplot:>]], dtype=object)"
      ]
     },
     "execution_count": 8,
     "metadata": {},
     "output_type": "execute_result"
    },
    {
     "data": {
      "image/png": "[encoded data removed]",
      "text/plain": [
       "<Figure size 432x288 with 6 Axes>"
      ]
     },
     "metadata": {
      "needs_background": "light"
     },
     "output_type": "display_data"
    },
    {
     "data": {
      "image/png": "[encoded data removed]",
      "text/plain": [
       "<Figure size 432x288 with 6 Axes>"
      ]
     },
     "metadata": {
      "needs_background": "light"
     },
     "output_type": "display_data"
    }
   ],
   "source": [
    "df.hist(['FU1_X_calculated', 'FU2_X_calculated', 'FU3_X_calculated', 'FU4_X_calculated', 'FU5_X_calculated'], bins=25)\n",
    "df.hist(['FU1_Y_calculated', 'FU2_Y_calculated', 'FU3_Y_calculated', 'FU4_Y_calculated', 'FU5_Y_calculated'], bins=25)"
   ]
  },
  {
   "cell_type": "code",
   "execution_count": 14,
   "metadata": {},
   "outputs": [],
   "source": [
    "# Compute X and Y differences for each arm\n",
    "for i in range(1, 6):\n",
    "    for d in ['X', 'Y']:\n",
    "        df['FU{}_d{}'.format(i, d)] = df['FU{}_{}_observed'.format(i, d)] - df['FU{}_{}_calculated'.format(i, d)]"
   ]
  },
  {
   "cell_type": "code",
   "execution_count": 10,
   "metadata": {},
   "outputs": [
    {
     "data": {
      "text/plain": [
       "array([[<AxesSubplot:title={'center':'FU1_dX'}>,\n",
       "        <AxesSubplot:title={'center':'FU2_dX'}>],\n",
       "       [<AxesSubplot:title={'center':'FU3_dX'}>,\n",
       "        <AxesSubplot:title={'center':'FU4_dX'}>],\n",
       "       [<AxesSubplot:title={'center':'FU5_dX'}>, <AxesSubplot:>]],\n",
       "      dtype=object)"
      ]
     },
     "execution_count": 10,
     "metadata": {},
     "output_type": "execute_result"
    },
    {
     "data": {
      "image/png": "[encoded data removed]",
      "text/plain": [
       "<Figure size 720x720 with 6 Axes>"
      ]
     },
     "metadata": {
      "needs_background": "light"
     },
     "output_type": "display_data"
    }
   ],
   "source": [
    "df.hist(['FU1_dX', 'FU2_dX', 'FU3_dX', 'FU4_dX', 'FU5_dX'], bins=25, figsize=(10, 10))"
   ]
  },
  {
   "cell_type": "code",
   "execution_count": 16,
   "metadata": {},
   "outputs": [],
   "source": [
    "# Drop some columns\n",
    "cols_to_drop = []\n",
    "\n",
    "for i in range(1, 6):\n",
    "    for d in ['X', 'Y']:\n",
    "        cols_to_drop.append('FU{}_{}_observed'.format(i, d))\n",
    "        \n",
    "df2 = df.drop(labels=cols_to_drop, axis=1, inplace=False)"
   ]
  },
  {
   "cell_type": "code",
   "execution_count": 6,
   "metadata": {},
   "outputs": [
    {
     "ename": "AttributeError",
     "evalue": "'DataFrame' object has no attribute 'FU1_dX'",
     "output_type": "error",
     "traceback": [
      "\u001b[0;31m---------------------------------------------------------------------------\u001b[0m",
      "\u001b[0;31mAttributeError\u001b[0m                            Traceback (most recent call last)",
      "\u001b[0;32m<ipython-input-6-dd26dfaa396a>\u001b[0m in \u001b[0;36m<module>\u001b[0;34m\u001b[0m\n\u001b[0;32m----> 1\u001b[0;31m \u001b[0mdf2\u001b[0m\u001b[0;34m.\u001b[0m\u001b[0mcorr\u001b[0m\u001b[0;34m(\u001b[0m\u001b[0mmethod\u001b[0m\u001b[0;34m=\u001b[0m\u001b[0;34m'spearman'\u001b[0m\u001b[0;34m)\u001b[0m\u001b[0;34m.\u001b[0m\u001b[0mFU1_dX\u001b[0m\u001b[0;34m.\u001b[0m\u001b[0mabs\u001b[0m\u001b[0;34m(\u001b[0m\u001b[0;34m)\u001b[0m\u001b[0;34m.\u001b[0m\u001b[0msort_values\u001b[0m\u001b[0;34m(\u001b[0m\u001b[0mascending\u001b[0m\u001b[0;34m=\u001b[0m\u001b[0;32mFalse\u001b[0m\u001b[0;34m)\u001b[0m\u001b[0;34m\u001b[0m\u001b[0;34m\u001b[0m\u001b[0m\n\u001b[0m",
      "\u001b[0;32m~/Library/Python/3.8/lib/python/site-packages/pandas/core/generic.py\u001b[0m in \u001b[0;36m__getattr__\u001b[0;34m(self, name)\u001b[0m\n\u001b[1;32m   5463\u001b[0m             \u001b[0;32mif\u001b[0m \u001b[0mself\u001b[0m\u001b[0;34m.\u001b[0m\u001b[0m_info_axis\u001b[0m\u001b[0;34m.\u001b[0m\u001b[0m_can_hold_identifiers_and_holds_name\u001b[0m\u001b[0;34m(\u001b[0m\u001b[0mname\u001b[0m\u001b[0;34m)\u001b[0m\u001b[0;34m:\u001b[0m\u001b[0;34m\u001b[0m\u001b[0;34m\u001b[0m\u001b[0m\n\u001b[1;32m   5464\u001b[0m                 \u001b[0;32mreturn\u001b[0m \u001b[0mself\u001b[0m\u001b[0;34m[\u001b[0m\u001b[0mname\u001b[0m\u001b[0;34m]\u001b[0m\u001b[0;34m\u001b[0m\u001b[0;34m\u001b[0m\u001b[0m\n\u001b[0;32m-> 5465\u001b[0;31m             \u001b[0;32mreturn\u001b[0m \u001b[0mobject\u001b[0m\u001b[0;34m.\u001b[0m\u001b[0m__getattribute__\u001b[0m\u001b[0;34m(\u001b[0m\u001b[0mself\u001b[0m\u001b[0;34m,\u001b[0m \u001b[0mname\u001b[0m\u001b[0;34m)\u001b[0m\u001b[0;34m\u001b[0m\u001b[0;34m\u001b[0m\u001b[0m\n\u001b[0m\u001b[1;32m   5466\u001b[0m \u001b[0;34m\u001b[0m\u001b[0m\n\u001b[1;32m   5467\u001b[0m     \u001b[0;32mdef\u001b[0m \u001b[0m__setattr__\u001b[0m\u001b[0;34m(\u001b[0m\u001b[0mself\u001b[0m\u001b[0;34m,\u001b[0m \u001b[0mname\u001b[0m\u001b[0;34m:\u001b[0m \u001b[0mstr\u001b[0m\u001b[0;34m,\u001b[0m \u001b[0mvalue\u001b[0m\u001b[0;34m)\u001b[0m \u001b[0;34m->\u001b[0m \u001b[0;32mNone\u001b[0m\u001b[0;34m:\u001b[0m\u001b[0;34m\u001b[0m\u001b[0;34m\u001b[0m\u001b[0m\n",
      "\u001b[0;31mAttributeError\u001b[0m: 'DataFrame' object has no attribute 'FU1_dX'"
     ]
    }
   ],
   "source": [
    "df2.corr(method='spearman').FU1_dX.abs().sort_values(ascending=False)"
   ]
  },
  {
   "cell_type": "code",
   "execution_count": null,
   "metadata": {},
   "outputs": [],
   "source": [
    "plt.figure(figsize=(12, 6))\n",
    "plt.scatter(df2.FU2_dX, df2.FU1_dX, s=df2.FU5_dX/1e2, c=df2.FU4_dX, alpha=0.3, label='FU5_dX')\n",
    "plt.legend(loc=0)\n",
    "plt.colorbar()"
   ]
  },
  {
   "cell_type": "code",
   "execution_count": null,
   "metadata": {},
   "outputs": [],
   "source": [
    "plt.figure(figsize=(12, 6))\n",
    "plt.scatter(df2.ha, df2.FU1_dX, c=df2.dec, alpha=1, label='FU5_dX')\n",
    "plt.legend(loc=0)\n",
    "plt.colorbar(label='Dec')"
   ]
  },
  {
   "cell_type": "code",
   "execution_count": 17,
   "metadata": {},
   "outputs": [],
   "source": [
    "# cond = df2.FU1_dX > -30000\n",
    "cond = (df2.alt >= 25.0) & (df2.dec > -80.0)\n",
    "\n",
    "X = df2.loc[cond, ('ha', 'dec', 'airmass', 'alt', 'FU1_Delta_dec', 'FU1_Delta_ra', 'FU1_X_calculated', 'FU1_Y_calculated')]\n",
    "t = df2.loc[cond, ['FU1_dX', 'FU1_dY', 'FU2_dX', 'FU2_dY', 'FU3_dX', 'FU3_dY', 'FU4_dX', 'FU4_dY', 'FU5_dX', 'FU5_dY']]"
   ]
  },
  {
   "cell_type": "code",
   "execution_count": 34,
   "metadata": {},
   "outputs": [],
   "source": [
    "from utils import vif\n",
    "\n",
    "r2dict = vif(X)"
   ]
  },
  {
   "cell_type": "code",
   "execution_count": 35,
   "metadata": {},
   "outputs": [
    {
     "name": "stdout",
     "output_type": "stream",
     "text": [
      "{'ha': 0.31128656553863676, 'dec': 0.47084045533595287, 'airmass': 0.8772972212876039, 'alt': 0.8663096907962763, 'FU1_Delta_dec': 0.999995330407146, 'FU1_Delta_ra': 0.9587697665686241, 'FU1_X_calculated': 0.8542672406683133, 'FU1_Y_calculated': 0.9999953130928437}\n"
     ]
    }
   ],
   "source": [
    "print(r2dict)"
   ]
  },
  {
   "cell_type": "code",
   "execution_count": 59,
   "metadata": {},
   "outputs": [
    {
     "name": "stdout",
     "output_type": "stream",
     "text": [
      "{'ha': 0.26785598139236955, 'dec': 0.27784440797655086, 'alt': 0.2961243445345382, 'FU1_Delta_Teff': 0.1993574216792522, 'temperature': 0.07052752698508746, 'FU1_Delta_dec': 0.1278626420294171, 'FU1_Delta_ra': 0.14737942934825143, 'FU1_ra': 0.1524466170230927}\n"
     ]
    }
   ],
   "source": [
    "# In view of large colineality, remove some columns\n",
    "X = df2.loc[cond, ('ha', 'dec', 'alt', \n",
    "                   #'FU1_X_calculated',# 'FU2_X_calculated', 'FU3_X_calculated', 'FU4_X_calculated', 'FU5_X_calculated',\n",
    "                   #'FU1_Delta_X_calculated',# 'FU2_Delta_X', 'FU3_Delta_X', 'FU4_Delta_X', 'FU5_Delta_X',\n",
    "                   #'FU1_Y_calculated', #'FU2_Y_calculated', 'FU3_Y_calculated', 'FU4_Y_calculated', 'FU5_Y_calculated',\n",
    "                   #'FU1_Delta_Y_calculated', 'FU2_Delta_Y_calculated', 'FU3_Delta_Y_calculated', 'FU4_Delta_Y_calculated', \n",
    "                   #'FU5_Delta_Y_calculated',\n",
    "                   'FU1_Delta_Teff', #'FU2_Delta_Teff', 'FU3_Delta_Teff', 'FU4_Delta_Teff', 'FU5_Delta_Teff')]\n",
    "                   #'FU1_distance', \n",
    "                   'temperature',\n",
    "                   'FU1_Delta_dec', 'FU1_Delta_ra', 'FU1_ra'\n",
    "                  )]\n",
    "\n",
    "t = df2.loc[cond, ['FU1_dX', 'FU1_dY']]#, 'FU2_dX', 'FU2_dY', 'FU3_dX', 'FU3_dY', 'FU4_dX', 'FU4_dY', 'FU5_dX', 'FU5_dY']]\n",
    "from utils import vif\n",
    "print(vif(X)[0])"
   ]
  },
  {
   "cell_type": "code",
   "execution_count": 60,
   "metadata": {},
   "outputs": [],
   "source": [
    "from sklearn.model_selection import train_test_split\n",
    "from sklearn.preprocessing import StandardScaler\n",
    "\n",
    "# Split train test\n",
    "X_train, X_test, t_train, t_test = train_test_split(X, t, test_size=0.2, random_state=1234)\n",
    "\n",
    "# Scale\n",
    "scaler = StandardScaler()\n",
    "X_train = scaler.fit_transform(X_train)\n",
    "X_test = scaler.transform(X_test)"
   ]
  },
  {
   "cell_type": "markdown",
   "metadata": {},
   "source": [
    "## Linear Regression"
   ]
  },
  {
   "cell_type": "code",
   "execution_count": 61,
   "metadata": {},
   "outputs": [
    {
     "name": "stdout",
     "output_type": "stream",
     "text": [
      "RMSE (train): 8053.01\n",
      "RMSE (test): 8400.69\n"
     ]
    }
   ],
   "source": [
    "from sklearn.linear_model import LinearRegression, HuberRegressor\n",
    "from sklearn.metrics import mean_squared_error\n",
    "\n",
    "lr = LinearRegression()\n",
    "lr.fit(X_train, t_train)\n",
    "\n",
    "# Metrics\n",
    "y_train = lr.predict(X_train)\n",
    "y_test = lr.predict(X_test)\n",
    "\n",
    "print('RMSE (train): {:.2f}'.format(np.sqrt(mean_squared_error(t_train, y_train))))\n",
    "print('RMSE (test): {:.2f}'.format(np.sqrt(mean_squared_error(t_test, y_test))))"
   ]
  },
  {
   "cell_type": "code",
   "execution_count": 62,
   "metadata": {},
   "outputs": [
    {
     "data": {
      "text/plain": [
       "[<matplotlib.lines.Line2D at 0x13a4c32e0>,\n",
       " <matplotlib.lines.Line2D at 0x13a4c3b20>]"
      ]
     },
     "execution_count": 62,
     "metadata": {},
     "output_type": "execute_result"
    },
    {
     "data": {
      "image/png": "[encoded data removed]",
      "text/plain": [
       "<Figure size 432x288 with 1 Axes>"
      ]
     },
     "metadata": {
      "needs_background": "light"
     },
     "output_type": "display_data"
    }
   ],
   "source": [
    "res = t_train - y_train\n",
    "\n",
    "plt.plot(X_train[:, 0], res, '.')"
   ]
  },
  {
   "cell_type": "code",
   "execution_count": 63,
   "metadata": {},
   "outputs": [],
   "source": [
    "from utils import hat_matrix\n",
    "H = hat_matrix(X_train)"
   ]
  },
  {
   "cell_type": "code",
   "execution_count": 64,
   "metadata": {},
   "outputs": [
    {
     "data": {
      "text/plain": [
       "<matplotlib.lines.Line2D at 0x13a86b6d0>"
      ]
     },
     "execution_count": 64,
     "metadata": {},
     "output_type": "execute_result"
    },
    {
     "data": {
      "image/png": "[encoded data removed]",
      "text/plain": [
       "<Figure size 432x288 with 1 Axes>"
      ]
     },
     "metadata": {
      "needs_background": "light"
     },
     "output_type": "display_data"
    }
   ],
   "source": [
    "plt.plot(np.diag(H), res, '.')\n",
    "plt.axhline(0, color='r', ls=':')"
   ]
  },
  {
   "cell_type": "code",
   "execution_count": 32,
   "metadata": {},
   "outputs": [
    {
     "data": {
      "text/plain": [
       "1879    TOI-1224_W_2020-12-08.fits\n",
       "1838    TOI-1224_W_2020-12-08.fits\n",
       "1895    TOI-1224_W_2020-12-08.fits\n",
       "1862    TOI-1224_W_2020-12-08.fits\n",
       "1841    TOI-1224_W_2020-12-08.fits\n",
       "1894    TOI-1224_W_2020-12-08.fits\n",
       "1831    TOI-1224_W_2020-12-08.fits\n",
       "1863    TOI-1224_W_2020-12-08.fits\n",
       "1890    TOI-1224_W_2020-12-08.fits\n",
       "1856    TOI-1224_W_2020-12-08.fits\n",
       "1837    TOI-1224_W_2020-12-08.fits\n",
       "1893    TOI-1224_W_2020-12-08.fits\n",
       "3179    TOI-1224_W_2020-12-08.fits\n",
       "1853    TOI-1224_W_2020-12-08.fits\n",
       "1850    TOI-1224_W_2020-12-08.fits\n",
       "1845    TOI-1224_W_2020-12-08.fits\n",
       "1847    TOI-1224_W_2020-12-08.fits\n",
       "1857    TOI-1224_W_2020-12-08.fits\n",
       "1874    TOI-1224_W_2020-12-08.fits\n",
       "1854    TOI-1224_W_2020-12-08.fits\n",
       "1889    TOI-1224_W_2020-12-08.fits\n",
       "1839    TOI-1224_W_2020-12-08.fits\n",
       "1860    TOI-1224_W_2020-12-08.fits\n",
       "1891    TOI-1224_W_2020-12-08.fits\n",
       "1865    TOI-1224_W_2020-12-08.fits\n",
       "1844    TOI-1224_W_2020-12-08.fits\n",
       "1881    TOI-1224_W_2020-12-08.fits\n",
       "1867    TOI-1224_W_2020-12-08.fits\n",
       "1883    TOI-1224_W_2020-12-08.fits\n",
       "1869    TOI-1224_W_2020-12-08.fits\n",
       "1870    TOI-1224_W_2020-12-08.fits\n",
       "1834    TOI-1224_W_2020-12-08.fits\n",
       "1880    TOI-1224_W_2020-12-08.fits\n",
       "1849    TOI-1224_W_2020-12-08.fits\n",
       "1876    TOI-1224_W_2020-12-08.fits\n",
       "1887    TOI-1224_W_2020-12-08.fits\n",
       "1832    TOI-1224_W_2020-12-08.fits\n",
       "1835    TOI-1224_W_2020-12-08.fits\n",
       "1833    TOI-1224_W_2020-12-08.fits\n",
       "1875    TOI-1224_W_2020-12-08.fits\n",
       "1861    TOI-1224_W_2020-12-08.fits\n",
       "1851    TOI-1224_W_2020-12-08.fits\n",
       "1868    TOI-1224_W_2020-12-08.fits\n",
       "1836    TOI-1224_W_2020-12-08.fits\n",
       "1858    TOI-1224_W_2020-12-08.fits\n",
       "1885    TOI-1224_W_2020-12-08.fits\n",
       "1873    TOI-1224_W_2020-12-08.fits\n",
       "1846    TOI-1224_W_2020-12-08.fits\n",
       "1859    TOI-1224_W_2020-12-08.fits\n",
       "1852    TOI-1224_W_2020-12-08.fits\n",
       "1886    TOI-1224_W_2020-12-08.fits\n",
       "1877    TOI-1224_W_2020-12-08.fits\n",
       "1848    TOI-1224_W_2020-12-08.fits\n",
       "1878    TOI-1224_W_2020-12-08.fits\n",
       "1888    TOI-1224_W_2020-12-08.fits\n",
       "1840    TOI-1224_W_2020-12-08.fits\n",
       "1871    TOI-1224_W_2020-12-08.fits\n",
       "Name: field, dtype: object"
      ]
     },
     "execution_count": 32,
     "metadata": {},
     "output_type": "execute_result"
    }
   ],
   "source": [
    "# Identify high leverage points\n",
    "dfAll = pd.read_csv('datasets/FPU2_ML_2021-04-29.csv')\n",
    "\n",
    "calt = (dfAll.alt > 25.0)\n",
    "\n",
    "# Split train test\n",
    "X_train_all, _, _, _ = train_test_split(dfAll.loc[calt], t, test_size=0.2, random_state=1234)\n",
    "\n",
    "# dfAll.loc[calt]\n",
    "X_train_all.loc[np.diag(H) > 0.006, 'field']"
   ]
  },
  {
   "cell_type": "markdown",
   "metadata": {},
   "source": [
    "**What out for those outliers!**\n"
   ]
  },
  {
   "cell_type": "code",
   "execution_count": null,
   "metadata": {},
   "outputs": [],
   "source": [
    "# Remove high-leverage points\n",
    "ind = np.diag(H) > 0.05\n",
    "\n",
    "lr.fit(X_train[~ind], t_train[~ind])\n",
    "y_train = lr.predict(X_train[~ind])\n",
    "\n",
    "print('RMSE (train): {:.2f}'.format(np.sqrt(mean_squared_error(t_train[~ind], y_train))))\n",
    "\n"
   ]
  },
  {
   "cell_type": "code",
   "execution_count": null,
   "metadata": {},
   "outputs": [],
   "source": [
    "plt.semilogx(np.diag(H)[~ind], y_train - t_train[~ind], '.')\n",
    "plt.axhline(0, color='r', ls=':')"
   ]
  },
  {
   "cell_type": "markdown",
   "metadata": {},
   "source": [
    "## Polynomial Regression"
   ]
  },
  {
   "cell_type": "code",
   "execution_count": 56,
   "metadata": {},
   "outputs": [
    {
     "name": "stdout",
     "output_type": "stream",
     "text": [
      "RMSE (train): 1862.12\n",
      "RMSE (test): 2123.96\n"
     ]
    }
   ],
   "source": [
    "from sklearn.preprocessing import PolynomialFeatures\n",
    "\n",
    "poly = PolynomialFeatures(degree=3)\n",
    "\n",
    "X_train_poly = poly.fit_transform(X_train)\n",
    "X_test_poly = poly.transform(X_test)\n",
    "\n",
    "pr = LinearRegression(fit_intercept=False)\n",
    "\n",
    "pr.fit(X_train_poly, t_train)\n",
    "y_train = pr.predict(X_train_poly)\n",
    "y_test =  pr.predict(X_test_poly)\n",
    "print('RMSE (train): {:.2f}'.format(np.sqrt(mean_squared_error(t_train, y_train))))\n",
    "print('RMSE (test): {:.2f}'.format(np.sqrt(mean_squared_error(t_test, y_test))))"
   ]
  },
  {
   "cell_type": "code",
   "execution_count": 20,
   "metadata": {},
   "outputs": [
    {
     "data": {
      "text/plain": [
       "(1900, 45)"
      ]
     },
     "execution_count": 20,
     "metadata": {},
     "output_type": "execute_result"
    }
   ],
   "source": [
    "X_train_poly.shape"
   ]
  },
  {
   "cell_type": "markdown",
   "metadata": {},
   "source": [
    "## Decision Tree"
   ]
  },
  {
   "cell_type": "code",
   "execution_count": 21,
   "metadata": {},
   "outputs": [
    {
     "name": "stdout",
     "output_type": "stream",
     "text": [
      "RMSE (train): 0.00\n",
      "RMSE (test): 3329.61\n"
     ]
    }
   ],
   "source": [
    "# Let's hit it harder\n",
    "from sklearn.tree import DecisionTreeRegressor\n",
    "\n",
    "dt = DecisionTreeRegressor(max_depth=51)\n",
    "dt.fit(X_train, t_train)\n",
    "\n",
    "# Metrics\n",
    "y_train = dt.predict(X_train)\n",
    "y_test = dt.predict(X_test)\n",
    "\n",
    "print('RMSE (train): {:.2f}'.format(np.sqrt(mean_squared_error(t_train, y_train))))\n",
    "print('RMSE (test): {:.2f}'.format(np.sqrt(mean_squared_error(t_test, y_test))))"
   ]
  },
  {
   "cell_type": "code",
   "execution_count": 22,
   "metadata": {},
   "outputs": [
    {
     "name": "stdout",
     "output_type": "stream",
     "text": [
      "{'max_depth': 39}\n",
      "Best RMSE (train): 2902.057454\n",
      "Best RMSE (test): 3273.882080\n"
     ]
    }
   ],
   "source": [
    "from sklearn.model_selection import GridSearchCV\n",
    "\n",
    "gscv = GridSearchCV(dt, {'max_depth': range(2, 100)}, cv=5, scoring='neg_mean_squared_error')\n",
    "gscv.fit(X_train, t_train)\n",
    "\n",
    "print(gscv.best_params_)\n",
    "print('Best RMSE (train): {:2f}'.format(np.sqrt(-gscv.best_score_)))\n",
    "print('Best RMSE (test): {:2f}'.format(np.sqrt(mean_squared_error(gscv.best_estimator_.predict(X_test), t_test))))"
   ]
  },
  {
   "cell_type": "markdown",
   "metadata": {},
   "source": [
    "## Random Forests"
   ]
  },
  {
   "cell_type": "code",
   "execution_count": 23,
   "metadata": {},
   "outputs": [
    {
     "name": "stdout",
     "output_type": "stream",
     "text": [
      "RMSE (train): 909.13\n",
      "RMSE (test): 2684.67\n"
     ]
    }
   ],
   "source": [
    "from sklearn.ensemble import RandomForestRegressor\n",
    "\n",
    "rfr = RandomForestRegressor(n_estimators=500)\n",
    "rfr.fit(X_train, t_train)\n",
    "\n",
    "y_train = rfr.predict(X_train)\n",
    "y_test =  rfr.predict(X_test)\n",
    "print('RMSE (train): {:.2f}'.format(np.sqrt(mean_squared_error(t_train, y_train))))\n",
    "print('RMSE (test): {:.2f}'.format(np.sqrt(mean_squared_error(t_test, y_test))))"
   ]
  },
  {
   "cell_type": "code",
   "execution_count": null,
   "metadata": {},
   "outputs": [],
   "source": [
    "plt.hist(y_test - t_test, 25)"
   ]
  },
  {
   "cell_type": "code",
   "execution_count": null,
   "metadata": {},
   "outputs": [],
   "source": [
    "RandomForestRegressor?"
   ]
  },
  {
   "cell_type": "code",
   "execution_count": null,
   "metadata": {},
   "outputs": [],
   "source": [
    "from sklearn.model_selection import RandomizedSearchCV\n",
    "from scipy.stats import randint\n",
    "\n",
    "rscv = RandomizedSearchCV(rfr, {'max_depth': randint(2, 20), 'n_estimators': randint(100, 500)}, \n",
    "                          n_iter=20, cv=5, scoring='neg_mean_squared_error')\n",
    "rscv.fit(X_train, t_train)\n",
    "\n",
    "print(rscv.best_params_)\n",
    "print('Best RMSE (train): {:2f}'.format(np.sqrt(-rscv.best_score_)))\n",
    "print('Best RMSE (test): {:2f}'.format(np.sqrt(mean_squared_error(rscv.best_estimator_.predict(X_test), t_test))))"
   ]
  },
  {
   "cell_type": "code",
   "execution_count": 24,
   "metadata": {},
   "outputs": [
    {
     "ename": "NameError",
     "evalue": "name 'rscv' is not defined",
     "output_type": "error",
     "traceback": [
      "\u001b[0;31m---------------------------------------------------------------------------\u001b[0m",
      "\u001b[0;31mNameError\u001b[0m                                 Traceback (most recent call last)",
      "\u001b[0;32m<ipython-input-24-322424306854>\u001b[0m in \u001b[0;36m<module>\u001b[0;34m\u001b[0m\n\u001b[0;32m----> 1\u001b[0;31m \u001b[0my_train\u001b[0m \u001b[0;34m=\u001b[0m \u001b[0mrscv\u001b[0m\u001b[0;34m.\u001b[0m\u001b[0mbest_estimator_\u001b[0m\u001b[0;34m.\u001b[0m\u001b[0mpredict\u001b[0m\u001b[0;34m(\u001b[0m\u001b[0mX_train\u001b[0m\u001b[0;34m)\u001b[0m\u001b[0;34m\u001b[0m\u001b[0;34m\u001b[0m\u001b[0m\n\u001b[0m\u001b[1;32m      2\u001b[0m \u001b[0my_test\u001b[0m \u001b[0;34m=\u001b[0m \u001b[0mrscv\u001b[0m\u001b[0;34m.\u001b[0m\u001b[0mbest_estimator_\u001b[0m\u001b[0;34m.\u001b[0m\u001b[0mpredict\u001b[0m\u001b[0;34m(\u001b[0m\u001b[0mX_test\u001b[0m\u001b[0;34m)\u001b[0m\u001b[0;34m\u001b[0m\u001b[0;34m\u001b[0m\u001b[0m\n",
      "\u001b[0;31mNameError\u001b[0m: name 'rscv' is not defined"
     ]
    }
   ],
   "source": [
    "y_train = rscv.best_estimator_.predict(X_train)\n",
    "y_test = rscv.best_estimator_.predict(X_test)"
   ]
  },
  {
   "cell_type": "code",
   "execution_count": null,
   "metadata": {},
   "outputs": [],
   "source": [
    "plt.hist(y_test - t_test, 25)"
   ]
  },
  {
   "cell_type": "code",
   "execution_count": null,
   "metadata": {},
   "outputs": [],
   "source": [
    "plt.scatter(t_train, y_train, label='train data')\n",
    "plt.scatter(t_test, y_test, label='test data')\n",
    "plt.legend(loc=0)\n",
    "plt.xlabel('FU1_dX [target]', fontsize=16)\n",
    "plt.ylabel('FU1_dX [predicted]', fontsize=16)\n",
    "plt.savefig('/Users/rodrigo/EXOML/extra/plots/RF_run1.pdf')"
   ]
  },
  {
   "cell_type": "markdown",
   "metadata": {},
   "source": [
    "I am tempted to repeat everything for points >-30000"
   ]
  },
  {
   "cell_type": "code",
   "execution_count": null,
   "metadata": {},
   "outputs": [],
   "source": [
    "from sklearn.ensemble import GradientBoostingRegressor"
   ]
  },
  {
   "cell_type": "code",
   "execution_count": null,
   "metadata": {},
   "outputs": [],
   "source": [
    "gbr  = GradientBoostingRegressor()\n",
    "\n",
    "gbr.fit(X_train, t_train)\n",
    "y_train = gbr.predict(X_train)\n",
    "y_test = gbr.predict(X_test)\n",
    "\n",
    "print('RMSE (train): {:.2f}'.format(np.sqrt(mean_squared_error(t_train, y_train))))\n",
    "print('RMSE (test): {:.2f}'.format(np.sqrt(mean_squared_error(t_test, y_test))))"
   ]
  },
  {
   "cell_type": "code",
   "execution_count": null,
   "metadata": {},
   "outputs": [],
   "source": []
  }
 ],
 "metadata": {
  "kernelspec": {
   "display_name": "Python 3",
   "language": "python",
   "name": "python3"
  },
  "language_info": {
   "codemirror_mode": {
    "name": "ipython",
    "version": 3
   },
   "file_extension": ".py",
   "mimetype": "text/x-python",
   "name": "python",
   "nbconvert_exporter": "python",
   "pygments_lexer": "ipython3",
   "version": "3.8.3"
  },
  "toc": {
   "base_numbering": 1,
   "nav_menu": {},
   "number_sections": true,
   "sideBar": true,
   "skip_h1_title": false,
   "title_cell": "Table of Contents",
   "title_sidebar": "Contents",
   "toc_cell": false,
   "toc_position": {
    "height": "calc(100% - 180px)",
    "left": "10px",
    "top": "150px",
    "width": "229px"
   },
   "toc_section_display": true,
   "toc_window_display": true
  }
 },
 "nbformat": 4,
 "nbformat_minor": 4
}
